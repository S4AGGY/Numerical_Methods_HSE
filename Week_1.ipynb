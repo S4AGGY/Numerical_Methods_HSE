{
 "cells": [
  {
   "cell_type": "markdown",
   "metadata": {},
   "source": [
    "## Мигуля Максим БПМ181"
   ]
  },
  {
   "cell_type": "markdown",
   "metadata": {},
   "source": [
    "# Задание 1"
   ]
  },
  {
   "cell_type": "code",
   "execution_count": 81,
   "metadata": {},
   "outputs": [
    {
     "name": "stdout",
     "output_type": "stream",
     "text": [
      "Интеграл I_25 при a = 0.1: 0.036226970909116835\n",
      "Интеграл I_25 при a = 10: 0.0035083534096819772\n"
     ]
    }
   ],
   "source": [
    "import sympy\n",
    "x = sympy.Symbol('x')\n",
    "first = float(sympy.integrate(x**25/(x + 0.1), (x, 0, 1)))\n",
    "second = float(sympy.integrate(x**25/(x + 10), (x, 0, 1)))\n",
    "print('Интеграл I_25 при a = 0.1:',first)\n",
    "print('Интеграл I_25 при a = 10:',second)"
   ]
  },
  {
   "cell_type": "code",
   "execution_count": 82,
   "metadata": {},
   "outputs": [],
   "source": [
    "def upwards_recursion(n, a):\n",
    "    if n == 0:\n",
    "        return sympy.ln((1 + a) / a)\n",
    "    return 1/n - a * upwards_recursion(n - 1,a)"
   ]
  },
  {
   "cell_type": "code",
   "execution_count": 83,
   "metadata": {},
   "outputs": [
    {
     "name": "stdout",
     "output_type": "stream",
     "text": [
      "Интеграл I_25, вычисленный прямой рекурсией, при a = 0.1: 0.0362269709091168\n",
      "Интеграл I_25, вычисленный прямой рекурсией, при a = 10: -748346367.401390\n"
     ]
    }
   ],
   "source": [
    "print('Интеграл I_25, вычисленный прямой рекурсией, при a = 0.1:',upwards_recursion(25,0.1))\n",
    "print('Интеграл I_25, вычисленный прямой рекурсией, при a = 10:',upwards_recursion(25,10))"
   ]
  },
  {
   "cell_type": "code",
   "execution_count": 84,
   "metadata": {},
   "outputs": [],
   "source": [
    "def downwards_recursion(n,a): \n",
    "    if n == 50:\n",
    "        return float(sympy.integrate(x**50/(x + a), (x, 0, 1)))\n",
    "    x0 = sympy.ln((1+a) / a)\n",
    "    res = (1/(n + 1) - downwards_recursion(n + 1,a) ) / a\n",
    "    return res"
   ]
  },
  {
   "cell_type": "code",
   "execution_count": 85,
   "metadata": {},
   "outputs": [
    {
     "name": "stdout",
     "output_type": "stream",
     "text": [
      "Интеграл I_25, вычисленный обратной рекурсией, при a = 0.1: -75445029.6647004\n",
      "Интеграл I_25, вычисленный обратной рекурсией, при a = 10: 0.0035083534096819772\n"
     ]
    }
   ],
   "source": [
    "print('Интеграл I_25, вычисленный обратной рекурсией, при a = 0.1:',downwards_recursion(25,0.1))\n",
    "print('Интеграл I_25, вычисленный обратной рекурсией, при a = 10:',downwards_recursion(25,10))"
   ]
  },
  {
   "cell_type": "markdown",
   "metadata": {},
   "source": [
    "# Задание 4"
   ]
  },
  {
   "cell_type": "code",
   "execution_count": 86,
   "metadata": {},
   "outputs": [],
   "source": [
    "import math\n",
    "def round_to_n(x, n):\n",
    "    if x == 0:\n",
    "        return x\n",
    "    else:\n",
    "        return round(x, -int(math.floor(math.log10(abs(x)))) + (n - 1))"
   ]
  },
  {
   "cell_type": "code",
   "execution_count": 87,
   "metadata": {},
   "outputs": [
    {
     "data": {
      "text/plain": [
       "1.624"
      ]
     },
     "execution_count": 87,
     "metadata": {},
     "output_type": "execute_result"
    }
   ],
   "source": [
    "res=0\n",
    "for k in range(1, 3001):\n",
    "    res = round_to_n(res + 1/k**2, 4)\n",
    "res"
   ]
  },
  {
   "cell_type": "code",
   "execution_count": 88,
   "metadata": {},
   "outputs": [
    {
     "data": {
      "text/plain": [
       "1.645"
      ]
     },
     "execution_count": 88,
     "metadata": {},
     "output_type": "execute_result"
    }
   ],
   "source": [
    "res=0\n",
    "for k in range(3000, 0, -1):\n",
    "    res = round_to_n(res + 1/k**2, 4)\n",
    "res"
   ]
  },
  {
   "cell_type": "markdown",
   "metadata": {},
   "source": [
    "# Задание 5"
   ]
  },
  {
   "cell_type": "markdown",
   "metadata": {},
   "source": [
    "a)"
   ]
  },
  {
   "cell_type": "code",
   "execution_count": 147,
   "metadata": {},
   "outputs": [],
   "source": [
    "G = 6.67 * 10 ** (-11)"
   ]
  },
  {
   "cell_type": "code",
   "execution_count": 148,
   "metadata": {},
   "outputs": [],
   "source": [
    "m1 = 40 * 10 ** 4\n",
    "m2 = 30 * 10 ** 4\n",
    "r = 3.2\n",
    "m1_dev = 0.05 * 10 ** 4\n",
    "m2_dev = 0.1 * 10 ** 4\n",
    "r_dev = 0.01"
   ]
  },
  {
   "cell_type": "code",
   "execution_count": 150,
   "metadata": {},
   "outputs": [
    {
     "data": {
      "text/plain": [
       "-0.0013027343749999996"
      ]
     },
     "execution_count": 150,
     "metadata": {},
     "output_type": "execute_result"
    }
   ],
   "source": [
    "dF_m1 = G * m2 * m1_dev / (r**2) \n",
    "dF_m2 = G * m1 * m2_dev / (r**2) \n",
    "dF_r = -2 * G * m1 * m2 * r_dev / (r**3)\n",
    "F = G * m1 * m2 / (r**2)\n",
    "delta_f = dF_m1 + dF_m2 + dF_r\n",
    "delta_f"
   ]
  },
  {
   "cell_type": "code",
   "execution_count": 151,
   "metadata": {},
   "outputs": [],
   "source": [
    "f_mean = m1 * m2 * G / (r * r)"
   ]
  },
  {
   "cell_type": "markdown",
   "metadata": {},
   "source": [
    "b)"
   ]
  },
  {
   "cell_type": "code",
   "execution_count": 152,
   "metadata": {},
   "outputs": [],
   "source": [
    "import random\n",
    "import numpy as np\n",
    "M1 = list()\n",
    "M2 = list()\n",
    "r = list()\n",
    "f = list()\n",
    "for i in range(10 ** 5):\n",
    "    M1.append(random.normalvariate(40 * 10 ** 4, 0.05 * 10 ** 4))\n",
    "    M2.append(random.normalvariate(30 * 10 ** 4, 0.1 * 10 ** 4))\n",
    "    r.append(random.normalvariate(3.2, 0.01))\n",
    "    f.append(M1[i] * M2[i] * 6.674 * 10 ** (-11) / (r[i] ** 2))"
   ]
  },
  {
   "cell_type": "code",
   "execution_count": 153,
   "metadata": {},
   "outputs": [
    {
     "data": {
      "text/plain": [
       "0.7967259690911875"
      ]
     },
     "execution_count": 153,
     "metadata": {},
     "output_type": "execute_result"
    }
   ],
   "source": [
    "f[2]"
   ]
  },
  {
   "cell_type": "markdown",
   "metadata": {},
   "source": [
    "c)"
   ]
  },
  {
   "cell_type": "code",
   "execution_count": 154,
   "metadata": {},
   "outputs": [],
   "source": [
    "import matplotlib.pyplot as plt\n",
    "import scipy.stats"
   ]
  },
  {
   "cell_type": "code",
   "execution_count": 155,
   "metadata": {},
   "outputs": [
    {
     "data": {
      "image/png": "[encoded data removed]",
      "text/plain": [
       "<Figure size 432x288 with 1 Axes>"
      ]
     },
     "metadata": {
      "needs_background": "light"
     },
     "output_type": "display_data"
    }
   ],
   "source": [
    "plt.hist(f, bins = 100)\n",
    "plt.show()"
   ]
  },
  {
   "cell_type": "code",
   "execution_count": 156,
   "metadata": {
    "scrolled": true
   },
   "outputs": [
    {
     "data": {
      "image/png": "[encoded data removed]",
      "text/plain": [
       "<Figure size 432x288 with 1 Axes>"
      ]
     },
     "metadata": {
      "needs_background": "light"
     },
     "output_type": "display_data"
    }
   ],
   "source": [
    "f_final = list()\n",
    "for i in range(10 ** 5):\n",
    "    f_final.append(random.normalvariate(f_mean, delta_f))\n",
    "plt.hist(f_final, bins = 100)\n",
    "plt.show()"
   ]
  },
  {
   "cell_type": "markdown",
   "metadata": {},
   "source": [
    "d)"
   ]
  },
  {
   "cell_type": "code",
   "execution_count": 157,
   "metadata": {},
   "outputs": [],
   "source": [
    "new_m1 = 40 * 10 ** 4\n",
    "new_m2 = 30 * 10 ** 4\n",
    "new_r = 3.2\n",
    "new_m1_dev = 2 * 10 ** 4\n",
    "new_m2_dev = 10 * 10 ** 4\n",
    "new_r_dev = 1"
   ]
  },
  {
   "cell_type": "code",
   "execution_count": 158,
   "metadata": {},
   "outputs": [
    {
     "data": {
      "text/plain": [
       "-0.18889648437499995"
      ]
     },
     "execution_count": 158,
     "metadata": {},
     "output_type": "execute_result"
    }
   ],
   "source": [
    "new_dF_m1 = G * new_m2 * new_m1_dev / (new_r**2) \n",
    "new_dF_m2 = G * new_m1 * new_m2_dev / (new_r**2) \n",
    "new_dF_r = -2 * G * new_m1 * new_m2 * new_r_dev / (new_r**3)\n",
    "new_F = G * new_m1 * new_m2 / (new_r**2)\n",
    "new_delta_f = new_dF_m1 + new_dF_m2 + new_dF_r\n",
    "new_delta_f"
   ]
  },
  {
   "cell_type": "code",
   "execution_count": 159,
   "metadata": {},
   "outputs": [],
   "source": [
    "new_f_mean = new_m1 * new_m2 * G / (new_r * new_r)"
   ]
  },
  {
   "cell_type": "code",
   "execution_count": 160,
   "metadata": {},
   "outputs": [],
   "source": [
    "new_M1 = list()\n",
    "new_M2 = list()\n",
    "new_r = list()\n",
    "new_f = list()\n",
    "for i in range(10 ** 5):\n",
    "    new_M1.append(random.normalvariate(40 * 10 ** 4, 2 * 10 ** 4))\n",
    "    new_M2.append(random.normalvariate(30 * 10 ** 4, 10 * 10 ** 4))\n",
    "    new_r.append(random.normalvariate(3.2, 1))\n",
    "    new_f.append(new_M1[i] * new_M2[i] * 6.674 * 10 ** (-11) / (new_r[i] ** 2))"
   ]
  },
  {
   "cell_type": "code",
   "execution_count": 161,
   "metadata": {},
   "outputs": [],
   "source": [
    "new_f = [x for x in new_f if x < 5]"
   ]
  },
  {
   "cell_type": "code",
   "execution_count": 162,
   "metadata": {},
   "outputs": [
    {
     "data": {
      "image/png": "[encoded data removed]",
      "text/plain": [
       "<Figure size 432x288 with 1 Axes>"
      ]
     },
     "metadata": {
      "needs_background": "light"
     },
     "output_type": "display_data"
    }
   ],
   "source": [
    "plt.hist(new_f, bins = 100)\n",
    "plt.show()"
   ]
  },
  {
   "cell_type": "code",
   "execution_count": 163,
   "metadata": {},
   "outputs": [
    {
     "data": {
      "image/png": "[encoded data removed]",
      "text/plain": [
       "<Figure size 432x288 with 1 Axes>"
      ]
     },
     "metadata": {
      "needs_background": "light"
     },
     "output_type": "display_data"
    }
   ],
   "source": [
    "new_f_final = list()\n",
    "for i in range(10 ** 5):\n",
    "    new_f_final.append(random.normalvariate(new_f_mean, new_delta_f))\n",
    "plt.hist(new_f_final, bins = 100)\n",
    "plt.show()"
   ]
  },
  {
   "cell_type": "code",
   "execution_count": null,
   "metadata": {},
   "outputs": [],
   "source": []
  },
  {
   "cell_type": "code",
   "execution_count": null,
   "metadata": {},
   "outputs": [],
   "source": []
  }
 ],
 "metadata": {
  "kernelspec": {
   "display_name": "Python 3",
   "language": "python",
   "name": "python3"
  },
  "language_info": {
   "codemirror_mode": {
    "name": "ipython",
    "version": 3
   },
   "file_extension": ".py",
   "mimetype": "text/x-python",
   "name": "python",
   "nbconvert_exporter": "python",
   "pygments_lexer": "ipython3",
   "version": "3.7.4"
  }
 },
 "nbformat": 4,
 "nbformat_minor": 2
}
